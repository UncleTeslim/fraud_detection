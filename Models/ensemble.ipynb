{
 "cells": [
  {
   "cell_type": "code",
   "execution_count": 2,
   "id": "912e3cb1-26da-42d8-bd41-3c195f5a3c81",
   "metadata": {},
   "outputs": [
    {
     "name": "stderr",
     "output_type": "stream",
     "text": [
      "C:\\Users\\A\\anaconda3\\Lib\\site-packages\\xgboost\\core.py:158: UserWarning: [13:55:12] WARNING: C:\\buildkite-agent\\builds\\buildkite-windows-cpu-autoscaling-group-i-08cbc0333d8d4aae1-1\\xgboost\\xgboost-ci-windows\\src\\learner.cc:740: \n",
      "Parameters: { \"use_label_encoder\" } are not used.\n",
      "\n",
      "  warnings.warn(smsg, UserWarning)\n"
     ]
    },
    {
     "name": "stdout",
     "output_type": "stream",
     "text": [
      "\n",
      "Voting Classifier (Random Forest + XGBoost) Performance:\n",
      "              precision    recall  f1-score   support\n",
      "\n",
      "           0       0.95      0.97      0.96     56884\n",
      "           1       0.90      0.83      0.87     18961\n",
      "\n",
      "    accuracy                           0.94     75845\n",
      "   macro avg       0.92      0.90      0.91     75845\n",
      "weighted avg       0.93      0.94      0.93     75845\n",
      "\n",
      "ROC AUC Score: 0.9007\n"
     ]
    }
   ],
   "source": [
    "# import pandas as pd\n",
    "# import numpy as np\n",
    "# from sklearn.model_selection import train_test_split\n",
    "# from sklearn.ensemble import RandomForestClassifier\n",
    "# from xgboost import XGBClassifier\n",
    "# from sklearn.ensemble import VotingClassifier\n",
    "# from sklearn.metrics import classification_report, roc_auc_score\n",
    "# from imblearn.under_sampling import RandomUnderSampler\n",
    "\n",
    "# # Load dataset\n",
    "# df = pd.read_csv(\"../cleaned_data.csv\")\n",
    "# X = df.drop(columns=[\"is_fraud\"])\n",
    "# y = df[\"is_fraud\"]\n",
    "\n",
    "# # Apply 3x Undersampling\n",
    "# undersample = RandomUnderSampler(sampling_strategy=1/3, random_state=42)\n",
    "# X_resampled, y_resampled = undersample.fit_resample(X, y)\n",
    "\n",
    "# # Train-Test Split\n",
    "# X_train, X_test, y_train, y_test = train_test_split(\n",
    "#     X_resampled, y_resampled, test_size=0.2, random_state=42, stratify=y_resampled\n",
    "# )\n",
    "\n",
    "# # Define base models\n",
    "# rf_model = RandomForestClassifier(n_estimators=100, random_state=42)\n",
    "# xgb_model = XGBClassifier(use_label_encoder=False, eval_metric=\"logloss\", random_state=42)\n",
    "\n",
    "# # Voting Classifier (Soft Voting)\n",
    "# voting_ensemble = VotingClassifier(\n",
    "#     estimators=[(\"random_forest\", rf_model), (\"xgboost\", xgb_model)],\n",
    "#     voting=\"soft\"  # \"soft\" averages probabilities, \"hard\" uses majority voting\n",
    "# )\n",
    "\n",
    "# # Train ensemble model\n",
    "# voting_ensemble.fit(X_train, y_train)\n",
    "\n",
    "# # Make predictions\n",
    "# y_pred = voting_ensemble.predict(X_test)\n",
    "\n",
    "# # Evaluate model\n",
    "# print(\"\\nVoting Classifier (Random Forest + XGBoost) Performance:\")\n",
    "# print(classification_report(y_test, y_pred))\n",
    "# print(f\"ROC AUC Score: {roc_auc_score(y_test, y_pred):.4f}\")\n"
   ]
  },
  {
   "cell_type": "code",
   "execution_count": 6,
   "id": "3f8c9f80-a87d-442a-97c1-849d46edfd56",
   "metadata": {},
   "outputs": [
    {
     "name": "stdout",
     "output_type": "stream",
     "text": [
      "Confusion Matrix:\n",
      " [[55182  1702]\n",
      " [ 3198 15763]]\n"
     ]
    }
   ],
   "source": [
    "# from sklearn.metrics import confusion_matrix\n",
    "# print(\"Confusion Matrix:\\n\", confusion_matrix(y_test, y_pred))"
   ]
  },
  {
   "cell_type": "code",
   "execution_count": 8,
   "id": "437ac443-a988-4e04-bd9e-83ebcc16d03a",
   "metadata": {},
   "outputs": [
    {
     "name": "stdout",
     "output_type": "stream",
     "text": [
      "\n",
      "Stacking Classifier (Random Forest + XGBoost + Logistic Regression) Performance:\n",
      "              precision    recall  f1-score   support\n",
      "\n",
      "           0       0.96      0.95      0.95     57459\n",
      "           1       0.84      0.89      0.87     18961\n",
      "\n",
      "    accuracy                           0.93     76420\n",
      "   macro avg       0.90      0.92      0.91     76420\n",
      "weighted avg       0.93      0.93      0.93     76420\n",
      "\n",
      "ROC AUC Score: 0.9186\n",
      "Confusion Matrix:\n",
      " [[54344  3115]\n",
      " [ 2059 16902]]\n"
     ]
    }
   ],
   "source": [
    "import pandas as pd\n",
    "import numpy as np\n",
    "from sklearn.model_selection import train_test_split, GridSearchCV\n",
    "from sklearn.linear_model import LogisticRegression\n",
    "from sklearn.ensemble import RandomForestClassifier, StackingClassifier\n",
    "from xgboost import XGBClassifier\n",
    "from sklearn.metrics import classification_report, roc_auc_score,confusion_matrix\n",
    "from imblearn.under_sampling import RandomUnderSampler\n",
    "\n",
    "df = pd.read_csv(\"../cleaned_data.csv\")\n",
    "X = df.drop(columns=[\"is_fraud\"])\n",
    "y = df[\"is_fraud\"]\n",
    "\n",
    "undersample = RandomUnderSampler(sampling_strategy=0.3, random_state=42)\n",
    "X_resampled, y_resampled = undersample.fit_resample(X, y)\n",
    "\n",
    "X_train, X_test, y_train, y_test = train_test_split(X_resampled, y_resampled, test_size=0.2, random_state=42, stratify=y_resampled)\n",
    "\n",
    "rf = RandomForestClassifier(n_estimators=100, random_state=42, class_weight='balanced')\n",
    "xgb = XGBClassifier(use_label_encoder=False, eval_metric='logloss', random_state=42)\n",
    "\n",
    "# Define meta-learner\n",
    "meta_learner = LogisticRegression(max_iter=1000, class_weight='balanced')\n",
    "\n",
    "# Create Stacking Classifier\n",
    "stacking_clf = StackingClassifier(\n",
    "    estimators=[('rf', rf), ('xgb', xgb)],\n",
    "    final_estimator=meta_learner,\n",
    "    cv=3,  # Cross-validation to reduce overfitting\n",
    "    n_jobs=-1\n",
    ")\n",
    "\n",
    "\n",
    "stacking_clf.fit(X_train, y_train)\n",
    "\n",
    "# Evaluate Stacking Classifier\n",
    "y_pred = stacking_clf.predict(X_test)\n",
    "print(\"\\nStacking Classifier (Random Forest + XGBoost + Logistic Regression) Performance:\")\n",
    "print(classification_report(y_test, y_pred))\n",
    "print(f\"ROC AUC Score: {roc_auc_score(y_test, y_pred):.4f}\")\n",
    "print(\"Confusion Matrix:\\n\", confusion_matrix(y_test, y_pred))"
   ]
  },
  {
   "cell_type": "code",
   "execution_count": null,
   "id": "daf131c3-b37c-4d5a-8085-c4cf9c61446e",
   "metadata": {},
   "outputs": [],
   "source": []
  }
 ],
 "metadata": {
  "kernelspec": {
   "display_name": "Python [conda env:base] *",
   "language": "python",
   "name": "conda-base-py"
  },
  "language_info": {
   "codemirror_mode": {
    "name": "ipython",
    "version": 3
   },
   "file_extension": ".py",
   "mimetype": "text/x-python",
   "name": "python",
   "nbconvert_exporter": "python",
   "pygments_lexer": "ipython3",
   "version": "3.12.9"
  }
 },
 "nbformat": 4,
 "nbformat_minor": 5
}
