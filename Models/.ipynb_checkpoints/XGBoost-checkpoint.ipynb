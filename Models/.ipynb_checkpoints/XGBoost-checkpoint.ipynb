{
 "cells": [
  {
   "cell_type": "code",
   "execution_count": 3,
   "id": "e27406ba-c0e3-4d9d-9eac-60ec3a2323cb",
   "metadata": {},
   "outputs": [
    {
     "name": "stdout",
     "output_type": "stream",
     "text": [
      "Classification Report:\n",
      "               precision    recall  f1-score   support\n",
      "\n",
      "           0       0.95      0.97      0.96     56884\n",
      "           1       0.90      0.83      0.87     18961\n",
      "\n",
      "    accuracy                           0.94     75845\n",
      "   macro avg       0.92      0.90      0.91     75845\n",
      "weighted avg       0.94      0.94      0.93     75845\n",
      "\n",
      "ROC AUC Score: 0.9792834001239581\n",
      "Confusion Matrix:\n",
      " [[55217  1667]\n",
      " [ 3198 15763]]\n"
     ]
    }
   ],
   "source": [
    "import numpy as np\n",
    "import pandas as pd\n",
    "from sklearn.model_selection import train_test_split\n",
    "from sklearn.metrics import classification_report, roc_auc_score, confusion_matrix\n",
    "from imblearn.under_sampling import RandomUnderSampler\n",
    "from xgboost import XGBClassifier\n",
    "\n",
    "df = pd.read_csv(\"../cleaned_data.csv\")\n",
    "\n",
    "# Assuming 'target' is the fraud label column\n",
    "X = df.drop(columns=['is_fraud'])  \n",
    "y = df['is_fraud']  \n",
    "\n",
    "# Apply 3x Undersampling\n",
    "undersample = RandomUnderSampler(sampling_strategy=1/3, random_state=42)\n",
    "X_resampled, y_resampled = undersample.fit_resample(X, y)\n",
    "\n",
    "# Train-Test Split\n",
    "X_train, X_test, y_train, y_test = train_test_split(X_resampled, y_resampled, test_size=0.2, random_state=42, stratify=y_resampled)\n",
    "\n",
    "# Train XGBoost Model\n",
    "xgb_model = XGBClassifier(\n",
    "    n_estimators=200, \n",
    "    learning_rate=0.05, \n",
    "    max_depth=6, \n",
    "    subsample=0.8,\n",
    "    colsample_bytree=0.8,\n",
    "    random_state=42\n",
    ")\n",
    "xgb_model.fit(X_train, y_train)\n",
    "\n",
    "# Predictions\n",
    "y_pred = xgb_model.predict(X_test)\n",
    "y_prob = xgb_model.predict_proba(X_test)[:, 1]\n",
    "\n",
    "# Evaluation\n",
    "print(\"Classification Report:\\n\", classification_report(y_test, y_pred))\n",
    "print(\"ROC AUC Score:\", roc_auc_score(y_test, y_prob))\n",
    "print(\"Confusion Matrix:\\n\", confusion_matrix(y_test, y_pred))\n"
   ]
  },
  {
   "cell_type": "code",
   "execution_count": null,
   "id": "73f06765-11b0-43e8-8125-b42d42b1e570",
   "metadata": {},
   "outputs": [],
   "source": []
  }
 ],
 "metadata": {
  "kernelspec": {
   "display_name": "Python [conda env:base] *",
   "language": "python",
   "name": "conda-base-py"
  },
  "language_info": {
   "codemirror_mode": {
    "name": "ipython",
    "version": 3
   },
   "file_extension": ".py",
   "mimetype": "text/x-python",
   "name": "python",
   "nbconvert_exporter": "python",
   "pygments_lexer": "ipython3",
   "version": "3.12.9"
  }
 },
 "nbformat": 4,
 "nbformat_minor": 5
}
